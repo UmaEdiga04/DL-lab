{
  "nbformat": 4,
  "nbformat_minor": 0,
  "metadata": {
    "colab": {
      "provenance": [],
      "authorship_tag": "ABX9TyOKJ97t0YpewkK5Y4ofU7FA",
      "include_colab_link": true
    },
    "kernelspec": {
      "name": "python3",
      "display_name": "Python 3"
    },
    "language_info": {
      "name": "python"
    }
  },
  "cells": [
    {
      "cell_type": "markdown",
      "metadata": {
        "id": "view-in-github",
        "colab_type": "text"
      },
      "source": [
        "<a href=\"https://colab.research.google.com/github/UmaEdiga04/addition-of-matrices/blob/main/Matrix_Add.ipynb\" target=\"_parent\"><img src=\"https://colab.research.google.com/assets/colab-badge.svg\" alt=\"Open In Colab\"/></a>"
      ]
    },
    {
      "cell_type": "code",
      "execution_count": 5,
      "metadata": {
        "colab": {
          "base_uri": "https://localhost:8080/"
        },
        "id": "LeXbRFpvJLrw",
        "outputId": "6259dd65-5569-40bc-fbeb-77002b0ee68e"
      },
      "outputs": [
        {
          "output_type": "stream",
          "name": "stdout",
          "text": [
            "[8, 10, 12]\n",
            "[14, 16, 18]\n"
          ]
        }
      ],
      "source": [
        "def add_matrices(A, B):\n",
        "    if len(A) != len(B) or len(A[0]) != len(B[0]):\n",
        "        raise ValueError(\"Matrices must be of the same dimensions\")\n",
        "    result = [[0] * len(A[0]) for _ in range(len(A))]\n",
        "    for i in range(len(A)):\n",
        "        for j in range(len(A[0])):\n",
        "            result[i][j] = A[i][j] + B[i][j]\n",
        "\n",
        "    return result\n",
        "matrix1 = [\n",
        "    [1, 2, 3],\n",
        "    [4, 5, 6]\n",
        "]\n",
        "\n",
        "matrix2 = [\n",
        "    [7, 8, 9],\n",
        "    [10, 11, 12]\n",
        "]\n",
        "\n",
        "result_matrix = add_matrices(matrix1, matrix2)\n",
        "for row in result_matrix:\n",
        "    print(row)\n",
        "\n"
      ]
    }
  ]
}